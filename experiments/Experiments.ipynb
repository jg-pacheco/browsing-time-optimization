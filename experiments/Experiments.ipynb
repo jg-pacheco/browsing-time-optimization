{
 "cells": [
  {
   "cell_type": "code",
   "execution_count": 1,
   "id": "b738061c",
   "metadata": {},
   "outputs": [],
   "source": [
    "import os\n",
    "import pandas as pd\n",
    "import statsmodels.formula.api as smf\n",
    "import statsmodels.api as sm\n",
    "import matplotlib.pyplot as plt\n",
    "import csv \n",
    "import random\n",
    "import numpy as np"
   ]
  },
  {
   "cell_type": "markdown",
   "id": "630c3026",
   "metadata": {},
   "source": [
    "# Part 1. Focus on \"type\" and \"size\"\n",
    "\n",
    "We find size is not significant, and type \"TT\" looks better(futher investigations needed)"
   ]
  },
  {
   "cell_type": "code",
   "execution_count": 2,
   "id": "03586121",
   "metadata": {},
   "outputs": [],
   "source": [
    "df_test = pd.read_csv('RESULTS_HLJPRMWW_2023-01-20.csv')"
   ]
  },
  {
   "cell_type": "code",
   "execution_count": 3,
   "id": "54910fe8",
   "metadata": {},
   "outputs": [],
   "source": [
    "df_test.columns = ['length','score','size','type','time']"
   ]
  },
  {
   "cell_type": "code",
   "execution_count": 4,
   "id": "cfa2a7e9",
   "metadata": {},
   "outputs": [
    {
     "data": {
      "text/html": [
       "<table class=\"simpletable\">\n",
       "<caption>OLS Regression Results</caption>\n",
       "<tr>\n",
       "  <th>Dep. Variable:</th>          <td>time</td>       <th>  R-squared:         </th> <td>   0.853</td> \n",
       "</tr>\n",
       "<tr>\n",
       "  <th>Model:</th>                   <td>OLS</td>       <th>  Adj. R-squared:    </th> <td>   0.852</td> \n",
       "</tr>\n",
       "<tr>\n",
       "  <th>Method:</th>             <td>Least Squares</td>  <th>  F-statistic:       </th> <td>   955.9</td> \n",
       "</tr>\n",
       "<tr>\n",
       "  <th>Date:</th>             <td>Fri, 20 Jan 2023</td> <th>  Prob (F-statistic):</th> <td>1.10e-205</td>\n",
       "</tr>\n",
       "<tr>\n",
       "  <th>Time:</th>                 <td>18:06:15</td>     <th>  Log-Likelihood:    </th> <td> -725.11</td> \n",
       "</tr>\n",
       "<tr>\n",
       "  <th>No. Observations:</th>      <td>   500</td>      <th>  AIC:               </th> <td>   1458.</td> \n",
       "</tr>\n",
       "<tr>\n",
       "  <th>Df Residuals:</th>          <td>   496</td>      <th>  BIC:               </th> <td>   1475.</td> \n",
       "</tr>\n",
       "<tr>\n",
       "  <th>Df Model:</th>              <td>     3</td>      <th>                     </th>     <td> </td>    \n",
       "</tr>\n",
       "<tr>\n",
       "  <th>Covariance Type:</th>      <td>nonrobust</td>    <th>                     </th>     <td> </td>    \n",
       "</tr>\n",
       "</table>\n",
       "<table class=\"simpletable\">\n",
       "<tr>\n",
       "           <td></td>             <th>coef</th>     <th>std err</th>      <th>t</th>      <th>P>|t|</th>  <th>[0.025</th>    <th>0.975]</th>  \n",
       "</tr>\n",
       "<tr>\n",
       "  <th>Intercept</th>          <td>   20.0658</td> <td>    0.232</td> <td>   86.625</td> <td> 0.000</td> <td>   19.611</td> <td>   20.521</td>\n",
       "</tr>\n",
       "<tr>\n",
       "  <th>C(type)[T.TT]</th>      <td>   -5.4140</td> <td>    0.263</td> <td>  -20.565</td> <td> 0.000</td> <td>   -5.931</td> <td>   -4.897</td>\n",
       "</tr>\n",
       "<tr>\n",
       "  <th>size</th>               <td>   -0.7125</td> <td>    0.733</td> <td>   -0.973</td> <td> 0.331</td> <td>   -2.152</td> <td>    0.727</td>\n",
       "</tr>\n",
       "<tr>\n",
       "  <th>C(type)[T.TT]:size</th> <td>    1.1734</td> <td>    0.819</td> <td>    1.433</td> <td> 0.153</td> <td>   -0.436</td> <td>    2.783</td>\n",
       "</tr>\n",
       "</table>\n",
       "<table class=\"simpletable\">\n",
       "<tr>\n",
       "  <th>Omnibus:</th>       <td> 0.610</td> <th>  Durbin-Watson:     </th> <td>   1.944</td>\n",
       "</tr>\n",
       "<tr>\n",
       "  <th>Prob(Omnibus):</th> <td> 0.737</td> <th>  Jarque-Bera (JB):  </th> <td>   0.612</td>\n",
       "</tr>\n",
       "<tr>\n",
       "  <th>Skew:</th>          <td> 0.084</td> <th>  Prob(JB):          </th> <td>   0.736</td>\n",
       "</tr>\n",
       "<tr>\n",
       "  <th>Kurtosis:</th>      <td> 2.970</td> <th>  Cond. No.          </th> <td>    30.2</td>\n",
       "</tr>\n",
       "</table><br/><br/>Notes:<br/>[1] Standard Errors assume that the covariance matrix of the errors is correctly specified."
      ],
      "text/plain": [
       "<class 'statsmodels.iolib.summary.Summary'>\n",
       "\"\"\"\n",
       "                            OLS Regression Results                            \n",
       "==============================================================================\n",
       "Dep. Variable:                   time   R-squared:                       0.853\n",
       "Model:                            OLS   Adj. R-squared:                  0.852\n",
       "Method:                 Least Squares   F-statistic:                     955.9\n",
       "Date:                Fri, 20 Jan 2023   Prob (F-statistic):          1.10e-205\n",
       "Time:                        18:06:15   Log-Likelihood:                -725.11\n",
       "No. Observations:                 500   AIC:                             1458.\n",
       "Df Residuals:                     496   BIC:                             1475.\n",
       "Df Model:                           3                                         \n",
       "Covariance Type:            nonrobust                                         \n",
       "======================================================================================\n",
       "                         coef    std err          t      P>|t|      [0.025      0.975]\n",
       "--------------------------------------------------------------------------------------\n",
       "Intercept             20.0658      0.232     86.625      0.000      19.611      20.521\n",
       "C(type)[T.TT]         -5.4140      0.263    -20.565      0.000      -5.931      -4.897\n",
       "size                  -0.7125      0.733     -0.973      0.331      -2.152       0.727\n",
       "C(type)[T.TT]:size     1.1734      0.819      1.433      0.153      -0.436       2.783\n",
       "==============================================================================\n",
       "Omnibus:                        0.610   Durbin-Watson:                   1.944\n",
       "Prob(Omnibus):                  0.737   Jarque-Bera (JB):                0.612\n",
       "Skew:                           0.084   Prob(JB):                        0.736\n",
       "Kurtosis:                       2.970   Cond. No.                         30.2\n",
       "==============================================================================\n",
       "\n",
       "Notes:\n",
       "[1] Standard Errors assume that the covariance matrix of the errors is correctly specified.\n",
       "\"\"\""
      ]
     },
     "execution_count": 4,
     "metadata": {},
     "output_type": "execute_result"
    }
   ],
   "source": [
    "model = smf.ols('time ~ C(type)*size',data = df_test).fit()\n",
    "model.summary() "
   ]
  },
  {
   "cell_type": "code",
   "execution_count": 5,
   "id": "e89c1ba2",
   "metadata": {},
   "outputs": [
    {
     "data": {
      "text/html": [
       "<div>\n",
       "<style scoped>\n",
       "    .dataframe tbody tr th:only-of-type {\n",
       "        vertical-align: middle;\n",
       "    }\n",
       "\n",
       "    .dataframe tbody tr th {\n",
       "        vertical-align: top;\n",
       "    }\n",
       "\n",
       "    .dataframe thead th {\n",
       "        text-align: right;\n",
       "    }\n",
       "</style>\n",
       "<table border=\"1\" class=\"dataframe\">\n",
       "  <thead>\n",
       "    <tr style=\"text-align: right;\">\n",
       "      <th></th>\n",
       "      <th>df_resid</th>\n",
       "      <th>ssr</th>\n",
       "      <th>df_diff</th>\n",
       "      <th>ss_diff</th>\n",
       "      <th>F</th>\n",
       "      <th>Pr(&gt;F)</th>\n",
       "    </tr>\n",
       "  </thead>\n",
       "  <tbody>\n",
       "    <tr>\n",
       "      <th>0</th>\n",
       "      <td>498.0</td>\n",
       "      <td>3609.311218</td>\n",
       "      <td>0.0</td>\n",
       "      <td>NaN</td>\n",
       "      <td>NaN</td>\n",
       "      <td>NaN</td>\n",
       "    </tr>\n",
       "    <tr>\n",
       "      <th>1</th>\n",
       "      <td>496.0</td>\n",
       "      <td>532.274457</td>\n",
       "      <td>2.0</td>\n",
       "      <td>3077.036761</td>\n",
       "      <td>1433.66849</td>\n",
       "      <td>6.924699e-207</td>\n",
       "    </tr>\n",
       "  </tbody>\n",
       "</table>\n",
       "</div>"
      ],
      "text/plain": [
       "   df_resid          ssr  df_diff      ss_diff           F         Pr(>F)\n",
       "0     498.0  3609.311218      0.0          NaN         NaN            NaN\n",
       "1     496.0   532.274457      2.0  3077.036761  1433.66849  6.924699e-207"
      ]
     },
     "execution_count": 5,
     "metadata": {},
     "output_type": "execute_result"
    }
   ],
   "source": [
    "model_2 = smf.ols('time ~ size',data = df_test).fit()\n",
    "sm.stats.anova_lm(model_2, model)"
   ]
  },
  {
   "cell_type": "code",
   "execution_count": 6,
   "id": "94802bb7",
   "metadata": {},
   "outputs": [
    {
     "data": {
      "text/html": [
       "<div>\n",
       "<style scoped>\n",
       "    .dataframe tbody tr th:only-of-type {\n",
       "        vertical-align: middle;\n",
       "    }\n",
       "\n",
       "    .dataframe tbody tr th {\n",
       "        vertical-align: top;\n",
       "    }\n",
       "\n",
       "    .dataframe thead th {\n",
       "        text-align: right;\n",
       "    }\n",
       "</style>\n",
       "<table border=\"1\" class=\"dataframe\">\n",
       "  <thead>\n",
       "    <tr style=\"text-align: right;\">\n",
       "      <th></th>\n",
       "      <th>df_resid</th>\n",
       "      <th>ssr</th>\n",
       "      <th>df_diff</th>\n",
       "      <th>ss_diff</th>\n",
       "      <th>F</th>\n",
       "      <th>Pr(&gt;F)</th>\n",
       "    </tr>\n",
       "  </thead>\n",
       "  <tbody>\n",
       "    <tr>\n",
       "      <th>0</th>\n",
       "      <td>498.0</td>\n",
       "      <td>534.989225</td>\n",
       "      <td>0.0</td>\n",
       "      <td>NaN</td>\n",
       "      <td>NaN</td>\n",
       "      <td>NaN</td>\n",
       "    </tr>\n",
       "    <tr>\n",
       "      <th>1</th>\n",
       "      <td>496.0</td>\n",
       "      <td>532.274457</td>\n",
       "      <td>2.0</td>\n",
       "      <td>2.714769</td>\n",
       "      <td>1.264879</td>\n",
       "      <td>0.283182</td>\n",
       "    </tr>\n",
       "  </tbody>\n",
       "</table>\n",
       "</div>"
      ],
      "text/plain": [
       "   df_resid         ssr  df_diff   ss_diff         F    Pr(>F)\n",
       "0     498.0  534.989225      0.0       NaN       NaN       NaN\n",
       "1     496.0  532.274457      2.0  2.714769  1.264879  0.283182"
      ]
     },
     "execution_count": 6,
     "metadata": {},
     "output_type": "execute_result"
    }
   ],
   "source": [
    "model_3 = smf.ols('time ~ C(type)',data = df_test).fit()\n",
    "sm.stats.anova_lm(model_3, model)"
   ]
  },
  {
   "cell_type": "markdown",
   "id": "d7fdffc9",
   "metadata": {},
   "source": [
    "# 9 on TT\n",
    "\n",
    "CCD on the whole range, and type is set as \"TT\""
   ]
  },
  {
   "cell_type": "code",
   "execution_count": 7,
   "id": "13bc5078",
   "metadata": {},
   "outputs": [],
   "source": [
    "def convertNtoC(U, UH, UL):\n",
    "    x = (U - (UH+UL)/2) / ((UH-UL)/2)  \n",
    "    return x\n",
    "\n",
    "def convertCtoN(x, UH, UL):\n",
    "    U = x*(UH-UL)/2 + (UH+UL)/2\n",
    "    return U"
   ]
  },
  {
   "cell_type": "code",
   "execution_count": 8,
   "id": "2a715656",
   "metadata": {},
   "outputs": [
    {
     "data": {
      "text/plain": [
       "1.4285714285714286"
      ]
     },
     "execution_count": 8,
     "metadata": {},
     "output_type": "execute_result"
    }
   ],
   "source": [
    "convertNtoC(100, 85, 15)"
   ]
  },
  {
   "cell_type": "code",
   "execution_count": 9,
   "id": "0239c3d9",
   "metadata": {},
   "outputs": [],
   "source": [
    "data = [[45, 85,0.2,'TT'],\n",
    "[45,15,0.2,'TT'],\n",
    "[105,15,0.2,'TT'],\n",
    "[105,85,0.2,'TT'],\n",
    "[30,50,0.2,'TT'],\n",
    "[120,50,0.2,'TT'],\n",
    "[75,0,0.2,'TT'],\n",
    "[75,100,0.2,'TT'],\n",
    "[75,50,0.2,'TT']]"
   ]
  },
  {
   "cell_type": "code",
   "execution_count": 10,
   "id": "1fd12995",
   "metadata": {},
   "outputs": [],
   "source": [
    "df_ccd1 = pd.read_csv('ccd_1.csv')\n",
    "df_ccd1.columns = ['length','score','size','type','time']\n",
    "x1 = convertNtoC(df_ccd1['length'], 105, 45)\n",
    "x2 = convertNtoC(df_ccd1['score'], 85, 15)\n",
    "df_ccd1['x1'] = x1\n",
    "df_ccd1['x2'] = x2"
   ]
  },
  {
   "cell_type": "code",
   "execution_count": 11,
   "id": "6ac7ebf0",
   "metadata": {},
   "outputs": [
    {
     "data": {
      "text/html": [
       "<table class=\"simpletable\">\n",
       "<caption>OLS Regression Results</caption>\n",
       "<tr>\n",
       "  <th>Dep. Variable:</th>          <td>time</td>       <th>  R-squared:         </th> <td>   0.727</td> \n",
       "</tr>\n",
       "<tr>\n",
       "  <th>Model:</th>                   <td>OLS</td>       <th>  Adj. R-squared:    </th> <td>   0.726</td> \n",
       "</tr>\n",
       "<tr>\n",
       "  <th>Method:</th>             <td>Least Squares</td>  <th>  F-statistic:       </th> <td>   476.6</td> \n",
       "</tr>\n",
       "<tr>\n",
       "  <th>Date:</th>             <td>Fri, 20 Jan 2023</td> <th>  Prob (F-statistic):</th> <td>3.03e-249</td>\n",
       "</tr>\n",
       "<tr>\n",
       "  <th>Time:</th>                 <td>18:06:15</td>     <th>  Log-Likelihood:    </th> <td> -1443.5</td> \n",
       "</tr>\n",
       "<tr>\n",
       "  <th>No. Observations:</th>      <td>   900</td>      <th>  AIC:               </th> <td>   2899.</td> \n",
       "</tr>\n",
       "<tr>\n",
       "  <th>Df Residuals:</th>          <td>   894</td>      <th>  BIC:               </th> <td>   2928.</td> \n",
       "</tr>\n",
       "<tr>\n",
       "  <th>Df Model:</th>              <td>     5</td>      <th>                     </th>     <td> </td>    \n",
       "</tr>\n",
       "<tr>\n",
       "  <th>Covariance Type:</th>      <td>nonrobust</td>    <th>                     </th>     <td> </td>    \n",
       "</tr>\n",
       "</table>\n",
       "<table class=\"simpletable\">\n",
       "<tr>\n",
       "       <td></td>         <th>coef</th>     <th>std err</th>      <th>t</th>      <th>P>|t|</th>  <th>[0.025</th>    <th>0.975]</th>  \n",
       "</tr>\n",
       "<tr>\n",
       "  <th>Intercept</th>  <td>   16.1297</td> <td>    0.120</td> <td>  134.227</td> <td> 0.000</td> <td>   15.894</td> <td>   16.366</td>\n",
       "</tr>\n",
       "<tr>\n",
       "  <th>x1</th>         <td>    0.6702</td> <td>    0.041</td> <td>   16.186</td> <td> 0.000</td> <td>    0.589</td> <td>    0.751</td>\n",
       "</tr>\n",
       "<tr>\n",
       "  <th>x2</th>         <td>   -1.6215</td> <td>    0.042</td> <td>  -38.187</td> <td> 0.000</td> <td>   -1.705</td> <td>   -1.538</td>\n",
       "</tr>\n",
       "<tr>\n",
       "  <th>x1:x2</th>      <td>    1.2632</td> <td>    0.060</td> <td>   20.928</td> <td> 0.000</td> <td>    1.145</td> <td>    1.382</td>\n",
       "</tr>\n",
       "<tr>\n",
       "  <th>I(x1 ** 2)</th> <td>    0.5593</td> <td>    0.065</td> <td>    8.662</td> <td> 0.000</td> <td>    0.433</td> <td>    0.686</td>\n",
       "</tr>\n",
       "<tr>\n",
       "  <th>I(x2 ** 2)</th> <td>    1.0562</td> <td>    0.071</td> <td>   14.922</td> <td> 0.000</td> <td>    0.917</td> <td>    1.195</td>\n",
       "</tr>\n",
       "</table>\n",
       "<table class=\"simpletable\">\n",
       "<tr>\n",
       "  <th>Omnibus:</th>       <td> 2.832</td> <th>  Durbin-Watson:     </th> <td>   2.078</td>\n",
       "</tr>\n",
       "<tr>\n",
       "  <th>Prob(Omnibus):</th> <td> 0.243</td> <th>  Jarque-Bera (JB):  </th> <td>   2.980</td>\n",
       "</tr>\n",
       "<tr>\n",
       "  <th>Skew:</th>          <td>-0.046</td> <th>  Prob(JB):          </th> <td>   0.225</td>\n",
       "</tr>\n",
       "<tr>\n",
       "  <th>Kurtosis:</th>      <td> 3.266</td> <th>  Cond. No.          </th> <td>    6.14</td>\n",
       "</tr>\n",
       "</table><br/><br/>Notes:<br/>[1] Standard Errors assume that the covariance matrix of the errors is correctly specified."
      ],
      "text/plain": [
       "<class 'statsmodels.iolib.summary.Summary'>\n",
       "\"\"\"\n",
       "                            OLS Regression Results                            \n",
       "==============================================================================\n",
       "Dep. Variable:                   time   R-squared:                       0.727\n",
       "Model:                            OLS   Adj. R-squared:                  0.726\n",
       "Method:                 Least Squares   F-statistic:                     476.6\n",
       "Date:                Fri, 20 Jan 2023   Prob (F-statistic):          3.03e-249\n",
       "Time:                        18:06:15   Log-Likelihood:                -1443.5\n",
       "No. Observations:                 900   AIC:                             2899.\n",
       "Df Residuals:                     894   BIC:                             2928.\n",
       "Df Model:                           5                                         \n",
       "Covariance Type:            nonrobust                                         \n",
       "==============================================================================\n",
       "                 coef    std err          t      P>|t|      [0.025      0.975]\n",
       "------------------------------------------------------------------------------\n",
       "Intercept     16.1297      0.120    134.227      0.000      15.894      16.366\n",
       "x1             0.6702      0.041     16.186      0.000       0.589       0.751\n",
       "x2            -1.6215      0.042    -38.187      0.000      -1.705      -1.538\n",
       "x1:x2          1.2632      0.060     20.928      0.000       1.145       1.382\n",
       "I(x1 ** 2)     0.5593      0.065      8.662      0.000       0.433       0.686\n",
       "I(x2 ** 2)     1.0562      0.071     14.922      0.000       0.917       1.195\n",
       "==============================================================================\n",
       "Omnibus:                        2.832   Durbin-Watson:                   2.078\n",
       "Prob(Omnibus):                  0.243   Jarque-Bera (JB):                2.980\n",
       "Skew:                          -0.046   Prob(JB):                        0.225\n",
       "Kurtosis:                       3.266   Cond. No.                         6.14\n",
       "==============================================================================\n",
       "\n",
       "Notes:\n",
       "[1] Standard Errors assume that the covariance matrix of the errors is correctly specified.\n",
       "\"\"\""
      ]
     },
     "execution_count": 11,
     "metadata": {},
     "output_type": "execute_result"
    }
   ],
   "source": [
    "model = smf.ols('time ~ x1 + x2 + x1:x2 + I(x1**2) + I(x2**2)', data = df_ccd1).fit()\n",
    "model.summary()"
   ]
  },
  {
   "cell_type": "code",
   "execution_count": 12,
   "id": "c78f18f4",
   "metadata": {},
   "outputs": [
    {
     "name": "stdout",
     "output_type": "stream",
     "text": [
      "Booking rate is maximized when x1= [[-4.5155586]] and x2= [[3.46781671]]\n"
     ]
    }
   ],
   "source": [
    "beta0 = model.params[0]\n",
    "beta1 = model.params[1]\n",
    "beta2 = model.params[2]\n",
    "beta12 = model.params[3]\n",
    "beta11 = model.params[4]\n",
    "beta22 = model.params[5]\n",
    "b = np.matrix([beta1, beta2]).transpose()\n",
    "B = np.matrix([[beta11, 0.5*beta12], [0.5*beta12, beta22]])\n",
    "x_s = -0.5* np.matmul(np.linalg.inv(B), b)\n",
    "print(\"Booking rate is maximized when x1=\", x_s[0], \"and x2=\", x_s[1])"
   ]
  },
  {
   "cell_type": "code",
   "execution_count": 13,
   "id": "b38c3b75",
   "metadata": {},
   "outputs": [
    {
     "name": "stdout",
     "output_type": "stream",
     "text": [
      "Length= [[-60.46675801]] , Score= [[171.37358478]]\n"
     ]
    }
   ],
   "source": [
    "xsN_1 = convertCtoN(x = x_s[0], UH = 105, UL = 45)\n",
    "xsN_2 = convertCtoN(x = x_s[1], UH = 85, UL = 15)\n",
    "print(\"Length=\", xsN_1, \", Score=\", xsN_2)"
   ]
  },
  {
   "cell_type": "code",
   "execution_count": 14,
   "id": "d78b5bdd",
   "metadata": {},
   "outputs": [
    {
     "data": {
      "image/png": "[encoded data removed]",
      "text/plain": [
       "<Figure size 432x288 with 1 Axes>"
      ]
     },
     "metadata": {
      "needs_background": "light"
     },
     "output_type": "display_data"
    }
   ],
   "source": [
    "x1, x2 = np.meshgrid(np.linspace(convertNtoC(U = 30, UH = 105, UL = 45), \n",
    "                                 convertNtoC(U = 120, UH = 105, UL = 45), 100), \n",
    "                     np.linspace(convertNtoC(U = 0, UH = 85, UL = 15), \n",
    "                                 convertNtoC(U = 100, UH = 85, UL = 15), 100))\n",
    "eta = beta0 + beta1*x1 + beta2*x2 + beta12*x1*x2 + beta11*x1**2 + beta22*x2**2\n",
    "h = plt.contour(x1, x2, eta)\n",
    "plt.clabel(h, inline=True, fontsize=10)\n",
    "plt.xlabel('x1')\n",
    "plt.ylabel('x2')\n",
    "plt.title('session time')\n",
    "plt.show()"
   ]
  },
  {
   "cell_type": "code",
   "execution_count": 15,
   "id": "f088a528",
   "metadata": {},
   "outputs": [
    {
     "data": {
      "image/png": "[encoded data removed]",
      "text/plain": [
       "<Figure size 432x288 with 1 Axes>"
      ]
     },
     "metadata": {
      "needs_background": "light"
     },
     "output_type": "display_data"
    }
   ],
   "source": [
    "h = plt.contour(convertCtoN(x1, UH=105, UL=45),\n",
    "                convertCtoN(x2, UH=85, UL=15), eta)\n",
    "plt.clabel(h, inline=True, fontsize=10)\n",
    "plt.xlabel('length')\n",
    "plt.ylabel('score')\n",
    "plt.title('time')\n",
    "plt.show()"
   ]
  },
  {
   "cell_type": "markdown",
   "id": "61d8778c",
   "metadata": {},
   "source": [
    "# 9 on AC\n",
    "\n",
    "\"TT\" is better than \"AC\""
   ]
  },
  {
   "cell_type": "code",
   "execution_count": 16,
   "id": "4ecfc23c",
   "metadata": {},
   "outputs": [],
   "source": [
    "df_ccd_ac = pd.read_csv('ccd_ac.csv')\n",
    "df_ccd_ac.columns = ['length','score','size','type','time']\n",
    "x1 = convertNtoC(df_ccd_ac['length'], 105, 45)\n",
    "x2 = convertNtoC(df_ccd_ac['score'], 85, 15)\n",
    "df_ccd_ac['x1'] = x1\n",
    "df_ccd_ac['x2'] = x2"
   ]
  },
  {
   "cell_type": "code",
   "execution_count": 17,
   "id": "40861eed",
   "metadata": {},
   "outputs": [
    {
     "data": {
      "text/html": [
       "<div>\n",
       "<style scoped>\n",
       "    .dataframe tbody tr th:only-of-type {\n",
       "        vertical-align: middle;\n",
       "    }\n",
       "\n",
       "    .dataframe tbody tr th {\n",
       "        vertical-align: top;\n",
       "    }\n",
       "\n",
       "    .dataframe thead th {\n",
       "        text-align: right;\n",
       "    }\n",
       "</style>\n",
       "<table border=\"1\" class=\"dataframe\">\n",
       "  <thead>\n",
       "    <tr style=\"text-align: right;\">\n",
       "      <th></th>\n",
       "      <th></th>\n",
       "      <th>size</th>\n",
       "      <th>time</th>\n",
       "      <th>x1</th>\n",
       "      <th>x2</th>\n",
       "    </tr>\n",
       "    <tr>\n",
       "      <th>length</th>\n",
       "      <th>score</th>\n",
       "      <th></th>\n",
       "      <th></th>\n",
       "      <th></th>\n",
       "      <th></th>\n",
       "    </tr>\n",
       "  </thead>\n",
       "  <tbody>\n",
       "    <tr>\n",
       "      <th>30</th>\n",
       "      <th>50</th>\n",
       "      <td>0.2</td>\n",
       "      <td>21.812744</td>\n",
       "      <td>-1.5</td>\n",
       "      <td>0.000000</td>\n",
       "    </tr>\n",
       "    <tr>\n",
       "      <th rowspan=\"2\" valign=\"top\">45</th>\n",
       "      <th>15</th>\n",
       "      <td>0.2</td>\n",
       "      <td>24.918022</td>\n",
       "      <td>-1.0</td>\n",
       "      <td>-1.000000</td>\n",
       "    </tr>\n",
       "    <tr>\n",
       "      <th>85</th>\n",
       "      <td>0.2</td>\n",
       "      <td>18.267671</td>\n",
       "      <td>-1.0</td>\n",
       "      <td>1.000000</td>\n",
       "    </tr>\n",
       "    <tr>\n",
       "      <th rowspan=\"3\" valign=\"top\">75</th>\n",
       "      <th>0</th>\n",
       "      <td>0.2</td>\n",
       "      <td>25.035974</td>\n",
       "      <td>0.0</td>\n",
       "      <td>-1.428571</td>\n",
       "    </tr>\n",
       "    <tr>\n",
       "      <th>50</th>\n",
       "      <td>0.2</td>\n",
       "      <td>21.228196</td>\n",
       "      <td>0.0</td>\n",
       "      <td>0.000000</td>\n",
       "    </tr>\n",
       "    <tr>\n",
       "      <th>100</th>\n",
       "      <td>0.2</td>\n",
       "      <td>21.709854</td>\n",
       "      <td>0.0</td>\n",
       "      <td>1.428571</td>\n",
       "    </tr>\n",
       "    <tr>\n",
       "      <th rowspan=\"2\" valign=\"top\">105</th>\n",
       "      <th>15</th>\n",
       "      <td>0.2</td>\n",
       "      <td>24.729971</td>\n",
       "      <td>1.0</td>\n",
       "      <td>-1.000000</td>\n",
       "    </tr>\n",
       "    <tr>\n",
       "      <th>85</th>\n",
       "      <td>0.2</td>\n",
       "      <td>22.989265</td>\n",
       "      <td>1.0</td>\n",
       "      <td>1.000000</td>\n",
       "    </tr>\n",
       "    <tr>\n",
       "      <th>120</th>\n",
       "      <th>50</th>\n",
       "      <td>0.2</td>\n",
       "      <td>22.457523</td>\n",
       "      <td>1.5</td>\n",
       "      <td>0.000000</td>\n",
       "    </tr>\n",
       "  </tbody>\n",
       "</table>\n",
       "</div>"
      ],
      "text/plain": [
       "              size       time   x1        x2\n",
       "length score                                \n",
       "30     50      0.2  21.812744 -1.5  0.000000\n",
       "45     15      0.2  24.918022 -1.0 -1.000000\n",
       "       85      0.2  18.267671 -1.0  1.000000\n",
       "75     0       0.2  25.035974  0.0 -1.428571\n",
       "       50      0.2  21.228196  0.0  0.000000\n",
       "       100     0.2  21.709854  0.0  1.428571\n",
       "105    15      0.2  24.729971  1.0 -1.000000\n",
       "       85      0.2  22.989265  1.0  1.000000\n",
       "120    50      0.2  22.457523  1.5  0.000000"
      ]
     },
     "execution_count": 17,
     "metadata": {},
     "output_type": "execute_result"
    }
   ],
   "source": [
    "df_ccd_ac.groupby(['length','score']).mean('time')"
   ]
  },
  {
   "cell_type": "code",
   "execution_count": 18,
   "id": "3bfcc9c2",
   "metadata": {},
   "outputs": [
    {
     "data": {
      "text/html": [
       "<table class=\"simpletable\">\n",
       "<caption>OLS Regression Results</caption>\n",
       "<tr>\n",
       "  <th>Dep. Variable:</th>          <td>time</td>       <th>  R-squared:         </th> <td>   0.732</td> \n",
       "</tr>\n",
       "<tr>\n",
       "  <th>Model:</th>                   <td>OLS</td>       <th>  Adj. R-squared:    </th> <td>   0.731</td> \n",
       "</tr>\n",
       "<tr>\n",
       "  <th>Method:</th>             <td>Least Squares</td>  <th>  F-statistic:       </th> <td>   489.0</td> \n",
       "</tr>\n",
       "<tr>\n",
       "  <th>Date:</th>             <td>Fri, 20 Jan 2023</td> <th>  Prob (F-statistic):</th> <td>7.17e-253</td>\n",
       "</tr>\n",
       "<tr>\n",
       "  <th>Time:</th>                 <td>18:06:15</td>     <th>  Log-Likelihood:    </th> <td> -1429.3</td> \n",
       "</tr>\n",
       "<tr>\n",
       "  <th>No. Observations:</th>      <td>   900</td>      <th>  AIC:               </th> <td>   2871.</td> \n",
       "</tr>\n",
       "<tr>\n",
       "  <th>Df Residuals:</th>          <td>   894</td>      <th>  BIC:               </th> <td>   2899.</td> \n",
       "</tr>\n",
       "<tr>\n",
       "  <th>Df Model:</th>              <td>     5</td>      <th>                     </th>     <td> </td>    \n",
       "</tr>\n",
       "<tr>\n",
       "  <th>Covariance Type:</th>      <td>nonrobust</td>    <th>                     </th>     <td> </td>    \n",
       "</tr>\n",
       "</table>\n",
       "<table class=\"simpletable\">\n",
       "<tr>\n",
       "       <td></td>         <th>coef</th>     <th>std err</th>      <th>t</th>      <th>P>|t|</th>  <th>[0.025</th>    <th>0.975]</th>  \n",
       "</tr>\n",
       "<tr>\n",
       "  <th>Intercept</th>  <td>   21.2343</td> <td>    0.118</td> <td>  179.515</td> <td> 0.000</td> <td>   21.002</td> <td>   21.466</td>\n",
       "</tr>\n",
       "<tr>\n",
       "  <th>x1</th>         <td>    0.6471</td> <td>    0.041</td> <td>   15.878</td> <td> 0.000</td> <td>    0.567</td> <td>    0.727</td>\n",
       "</tr>\n",
       "<tr>\n",
       "  <th>x2</th>         <td>   -1.6262</td> <td>    0.042</td> <td>  -38.906</td> <td> 0.000</td> <td>   -1.708</td> <td>   -1.544</td>\n",
       "</tr>\n",
       "<tr>\n",
       "  <th>x1:x2</th>      <td>    1.2274</td> <td>    0.059</td> <td>   20.659</td> <td> 0.000</td> <td>    1.111</td> <td>    1.344</td>\n",
       "</tr>\n",
       "<tr>\n",
       "  <th>I(x1 ** 2)</th> <td>    0.4096</td> <td>    0.064</td> <td>    6.444</td> <td> 0.000</td> <td>    0.285</td> <td>    0.534</td>\n",
       "</tr>\n",
       "<tr>\n",
       "  <th>I(x2 ** 2)</th> <td>    1.0591</td> <td>    0.070</td> <td>   15.201</td> <td> 0.000</td> <td>    0.922</td> <td>    1.196</td>\n",
       "</tr>\n",
       "</table>\n",
       "<table class=\"simpletable\">\n",
       "<tr>\n",
       "  <th>Omnibus:</th>       <td> 0.447</td> <th>  Durbin-Watson:     </th> <td>   1.973</td>\n",
       "</tr>\n",
       "<tr>\n",
       "  <th>Prob(Omnibus):</th> <td> 0.800</td> <th>  Jarque-Bera (JB):  </th> <td>   0.336</td>\n",
       "</tr>\n",
       "<tr>\n",
       "  <th>Skew:</th>          <td>-0.031</td> <th>  Prob(JB):          </th> <td>   0.845</td>\n",
       "</tr>\n",
       "<tr>\n",
       "  <th>Kurtosis:</th>      <td> 3.071</td> <th>  Cond. No.          </th> <td>    6.14</td>\n",
       "</tr>\n",
       "</table><br/><br/>Notes:<br/>[1] Standard Errors assume that the covariance matrix of the errors is correctly specified."
      ],
      "text/plain": [
       "<class 'statsmodels.iolib.summary.Summary'>\n",
       "\"\"\"\n",
       "                            OLS Regression Results                            \n",
       "==============================================================================\n",
       "Dep. Variable:                   time   R-squared:                       0.732\n",
       "Model:                            OLS   Adj. R-squared:                  0.731\n",
       "Method:                 Least Squares   F-statistic:                     489.0\n",
       "Date:                Fri, 20 Jan 2023   Prob (F-statistic):          7.17e-253\n",
       "Time:                        18:06:15   Log-Likelihood:                -1429.3\n",
       "No. Observations:                 900   AIC:                             2871.\n",
       "Df Residuals:                     894   BIC:                             2899.\n",
       "Df Model:                           5                                         \n",
       "Covariance Type:            nonrobust                                         \n",
       "==============================================================================\n",
       "                 coef    std err          t      P>|t|      [0.025      0.975]\n",
       "------------------------------------------------------------------------------\n",
       "Intercept     21.2343      0.118    179.515      0.000      21.002      21.466\n",
       "x1             0.6471      0.041     15.878      0.000       0.567       0.727\n",
       "x2            -1.6262      0.042    -38.906      0.000      -1.708      -1.544\n",
       "x1:x2          1.2274      0.059     20.659      0.000       1.111       1.344\n",
       "I(x1 ** 2)     0.4096      0.064      6.444      0.000       0.285       0.534\n",
       "I(x2 ** 2)     1.0591      0.070     15.201      0.000       0.922       1.196\n",
       "==============================================================================\n",
       "Omnibus:                        0.447   Durbin-Watson:                   1.973\n",
       "Prob(Omnibus):                  0.800   Jarque-Bera (JB):                0.336\n",
       "Skew:                          -0.031   Prob(JB):                        0.845\n",
       "Kurtosis:                       3.071   Cond. No.                         6.14\n",
       "==============================================================================\n",
       "\n",
       "Notes:\n",
       "[1] Standard Errors assume that the covariance matrix of the errors is correctly specified.\n",
       "\"\"\""
      ]
     },
     "execution_count": 18,
     "metadata": {},
     "output_type": "execute_result"
    }
   ],
   "source": [
    "model = smf.ols('time ~ x1 + x2 + x1:x2 + I(x1**2) + I(x2**2)', data = df_ccd_ac).fit()\n",
    "model.summary()"
   ]
  },
  {
   "cell_type": "code",
   "execution_count": 19,
   "id": "192dd825",
   "metadata": {},
   "outputs": [
    {
     "name": "stdout",
     "output_type": "stream",
     "text": [
      "Session time is maximized when x1= [[-14.73207433]] and x2= [[9.30441467]]\n"
     ]
    }
   ],
   "source": [
    "beta0 = model.params[0]\n",
    "beta1 = model.params[1]\n",
    "beta2 = model.params[2]\n",
    "beta12 = model.params[3]\n",
    "beta11 = model.params[4]\n",
    "beta22 = model.params[5]\n",
    "b = np.matrix([beta1, beta2]).transpose()\n",
    "B = np.matrix([[beta11, 0.5*beta12], [0.5*beta12, beta22]])\n",
    "x_s = -0.5* np.matmul(np.linalg.inv(B), b)\n",
    "print(\"Session time is maximized when x1=\", x_s[0], \"and x2=\", x_s[1])"
   ]
  },
  {
   "cell_type": "code",
   "execution_count": 20,
   "id": "2082facb",
   "metadata": {},
   "outputs": [
    {
     "name": "stdout",
     "output_type": "stream",
     "text": [
      "Length= [[-366.96222995]] , Score= [[375.6545135]]\n"
     ]
    }
   ],
   "source": [
    "xsN_1 = convertCtoN(x = x_s[0], UH = 105, UL = 45)\n",
    "xsN_2 = convertCtoN(x = x_s[1], UH = 85, UL = 15)\n",
    "print(\"Length=\", xsN_1, \", Score=\", xsN_2)"
   ]
  },
  {
   "cell_type": "code",
   "execution_count": 21,
   "id": "fab747d6",
   "metadata": {},
   "outputs": [
    {
     "data": {
      "image/png": "[encoded data removed]",
      "text/plain": [
       "<Figure size 432x288 with 1 Axes>"
      ]
     },
     "metadata": {
      "needs_background": "light"
     },
     "output_type": "display_data"
    }
   ],
   "source": [
    "x1, x2 = np.meshgrid(np.linspace(convertNtoC(U = 30, UH = 105, UL = 45), \n",
    "                                 convertNtoC(U = 120, UH = 105, UL = 45), 100), \n",
    "                     np.linspace(convertNtoC(U = 0, UH = 85, UL = 15), \n",
    "                                 convertNtoC(U = 100, UH = 85, UL = 15), 100))\n",
    "eta = beta0 + beta1*x1 + beta2*x2 + beta12*x1*x2 + beta11*x1**2 + beta22*x2**2\n",
    "h = plt.contour(x1, x2, eta)\n",
    "plt.clabel(h, inline=True, fontsize=10)\n",
    "plt.xlabel('x1')\n",
    "plt.ylabel('x2')\n",
    "plt.title('Browse time')\n",
    "plt.show()"
   ]
  },
  {
   "cell_type": "code",
   "execution_count": 22,
   "id": "65913091",
   "metadata": {},
   "outputs": [
    {
     "data": {
      "image/png": "[encoded data removed]",
      "text/plain": [
       "<Figure size 432x288 with 1 Axes>"
      ]
     },
     "metadata": {
      "needs_background": "light"
     },
     "output_type": "display_data"
    }
   ],
   "source": [
    "h = plt.contour(convertCtoN(x1, UH=105, UL=45),\n",
    "                convertCtoN(x2, UH=85, UL=15), eta)\n",
    "plt.clabel(h, inline=True, fontsize=10)\n",
    "plt.xlabel('Preview length')\n",
    "plt.ylabel('Match Score')\n",
    "plt.title('Browse Time')\n",
    "plt.show()"
   ]
  },
  {
   "cell_type": "markdown",
   "id": "bc61047f",
   "metadata": {},
   "source": [
    "# 9 on TT(2nd)\n",
    "\n",
    "This time did 9 on TT in a smaller range\n"
   ]
  },
  {
   "cell_type": "code",
   "execution_count": 23,
   "id": "5fb2ebdf",
   "metadata": {},
   "outputs": [],
   "source": [
    "df_ccd2 = pd.read_csv('ccd_2.csv')\n",
    "df_ccd2.columns = ['length','score','size','type','time']\n",
    "x1 = convertNtoC(df_ccd2['length'], 75, 55)\n",
    "x2 = convertNtoC(df_ccd2['score'], 85, 65)\n",
    "df_ccd2['x1'] = x1\n",
    "df_ccd2['x2'] = x2\n"
   ]
  },
  {
   "cell_type": "code",
   "execution_count": 24,
   "id": "ec0dcfb6",
   "metadata": {},
   "outputs": [
    {
     "data": {
      "text/html": [
       "<table class=\"simpletable\">\n",
       "<caption>OLS Regression Results</caption>\n",
       "<tr>\n",
       "  <th>Dep. Variable:</th>          <td>time</td>       <th>  R-squared:         </th> <td>   0.614</td> \n",
       "</tr>\n",
       "<tr>\n",
       "  <th>Model:</th>                   <td>OLS</td>       <th>  Adj. R-squared:    </th> <td>   0.611</td> \n",
       "</tr>\n",
       "<tr>\n",
       "  <th>Method:</th>             <td>Least Squares</td>  <th>  F-statistic:       </th> <td>   283.9</td> \n",
       "</tr>\n",
       "<tr>\n",
       "  <th>Date:</th>             <td>Fri, 20 Jan 2023</td> <th>  Prob (F-statistic):</th> <td>8.69e-182</td>\n",
       "</tr>\n",
       "<tr>\n",
       "  <th>Time:</th>                 <td>18:06:15</td>     <th>  Log-Likelihood:    </th> <td> -1285.1</td> \n",
       "</tr>\n",
       "<tr>\n",
       "  <th>No. Observations:</th>      <td>   900</td>      <th>  AIC:               </th> <td>   2582.</td> \n",
       "</tr>\n",
       "<tr>\n",
       "  <th>Df Residuals:</th>          <td>   894</td>      <th>  BIC:               </th> <td>   2611.</td> \n",
       "</tr>\n",
       "<tr>\n",
       "  <th>Df Model:</th>              <td>     5</td>      <th>                     </th>     <td> </td>    \n",
       "</tr>\n",
       "<tr>\n",
       "  <th>Covariance Type:</th>      <td>nonrobust</td>    <th>                     </th>     <td> </td>    \n",
       "</tr>\n",
       "</table>\n",
       "<table class=\"simpletable\">\n",
       "<tr>\n",
       "       <td></td>         <th>coef</th>     <th>std err</th>      <th>t</th>      <th>P>|t|</th>  <th>[0.025</th>    <th>0.975]</th>  \n",
       "</tr>\n",
       "<tr>\n",
       "  <th>Intercept</th>  <td>   10.9049</td> <td>    0.101</td> <td>  107.951</td> <td> 0.000</td> <td>   10.707</td> <td>   11.103</td>\n",
       "</tr>\n",
       "<tr>\n",
       "  <th>x1</th>         <td>   -0.8729</td> <td>    0.035</td> <td>  -25.138</td> <td> 0.000</td> <td>   -0.941</td> <td>   -0.805</td>\n",
       "</tr>\n",
       "<tr>\n",
       "  <th>x2</th>         <td>   -0.5877</td> <td>    0.036</td> <td>  -16.338</td> <td> 0.000</td> <td>   -0.658</td> <td>   -0.517</td>\n",
       "</tr>\n",
       "<tr>\n",
       "  <th>x1:x2</th>      <td>    0.7397</td> <td>    0.051</td> <td>   14.615</td> <td> 0.000</td> <td>    0.640</td> <td>    0.839</td>\n",
       "</tr>\n",
       "<tr>\n",
       "  <th>I(x1 ** 2)</th> <td>    0.1803</td> <td>    0.054</td> <td>    3.345</td> <td> 0.001</td> <td>    0.074</td> <td>    0.286</td>\n",
       "</tr>\n",
       "<tr>\n",
       "  <th>I(x2 ** 2)</th> <td>    0.9354</td> <td>    0.061</td> <td>   15.260</td> <td> 0.000</td> <td>    0.815</td> <td>    1.056</td>\n",
       "</tr>\n",
       "</table>\n",
       "<table class=\"simpletable\">\n",
       "<tr>\n",
       "  <th>Omnibus:</th>       <td> 2.143</td> <th>  Durbin-Watson:     </th> <td>   2.030</td>\n",
       "</tr>\n",
       "<tr>\n",
       "  <th>Prob(Omnibus):</th> <td> 0.343</td> <th>  Jarque-Bera (JB):  </th> <td>   2.119</td>\n",
       "</tr>\n",
       "<tr>\n",
       "  <th>Skew:</th>          <td>-0.076</td> <th>  Prob(JB):          </th> <td>   0.347</td>\n",
       "</tr>\n",
       "<tr>\n",
       "  <th>Kurtosis:</th>      <td> 2.817</td> <th>  Cond. No.          </th> <td>    6.15</td>\n",
       "</tr>\n",
       "</table><br/><br/>Notes:<br/>[1] Standard Errors assume that the covariance matrix of the errors is correctly specified."
      ],
      "text/plain": [
       "<class 'statsmodels.iolib.summary.Summary'>\n",
       "\"\"\"\n",
       "                            OLS Regression Results                            \n",
       "==============================================================================\n",
       "Dep. Variable:                   time   R-squared:                       0.614\n",
       "Model:                            OLS   Adj. R-squared:                  0.611\n",
       "Method:                 Least Squares   F-statistic:                     283.9\n",
       "Date:                Fri, 20 Jan 2023   Prob (F-statistic):          8.69e-182\n",
       "Time:                        18:06:15   Log-Likelihood:                -1285.1\n",
       "No. Observations:                 900   AIC:                             2582.\n",
       "Df Residuals:                     894   BIC:                             2611.\n",
       "Df Model:                           5                                         \n",
       "Covariance Type:            nonrobust                                         \n",
       "==============================================================================\n",
       "                 coef    std err          t      P>|t|      [0.025      0.975]\n",
       "------------------------------------------------------------------------------\n",
       "Intercept     10.9049      0.101    107.951      0.000      10.707      11.103\n",
       "x1            -0.8729      0.035    -25.138      0.000      -0.941      -0.805\n",
       "x2            -0.5877      0.036    -16.338      0.000      -0.658      -0.517\n",
       "x1:x2          0.7397      0.051     14.615      0.000       0.640       0.839\n",
       "I(x1 ** 2)     0.1803      0.054      3.345      0.001       0.074       0.286\n",
       "I(x2 ** 2)     0.9354      0.061     15.260      0.000       0.815       1.056\n",
       "==============================================================================\n",
       "Omnibus:                        2.143   Durbin-Watson:                   2.030\n",
       "Prob(Omnibus):                  0.343   Jarque-Bera (JB):                2.119\n",
       "Skew:                          -0.076   Prob(JB):                        0.347\n",
       "Kurtosis:                       2.817   Cond. No.                         6.15\n",
       "==============================================================================\n",
       "\n",
       "Notes:\n",
       "[1] Standard Errors assume that the covariance matrix of the errors is correctly specified.\n",
       "\"\"\""
      ]
     },
     "execution_count": 24,
     "metadata": {},
     "output_type": "execute_result"
    }
   ],
   "source": [
    "model = smf.ols('time ~ x1 + x2 + x1:x2 + I(x1**2) + I(x2**2)', data = df_ccd2).fit()\n",
    "model.summary()"
   ]
  },
  {
   "cell_type": "code",
   "execution_count": 25,
   "id": "8a43ab8d",
   "metadata": {},
   "outputs": [
    {
     "name": "stdout",
     "output_type": "stream",
     "text": [
      "Session time is maximized when x1= [[9.41165126]] and x2= [[-3.40727925]]\n"
     ]
    }
   ],
   "source": [
    "beta0 = model.params[0]\n",
    "beta1 = model.params[1]\n",
    "beta2 = model.params[2]\n",
    "beta12 = model.params[3]\n",
    "beta11 = model.params[4]\n",
    "beta22 = model.params[5]\n",
    "b = np.matrix([beta1, beta2]).transpose()\n",
    "B = np.matrix([[beta11, 0.5*beta12], [0.5*beta12, beta22]])\n",
    "x_s = -0.5* np.matmul(np.linalg.inv(B), b)\n",
    "print(\"Session time is maximized when x1=\", x_s[0], \"and x2=\", x_s[1])"
   ]
  },
  {
   "cell_type": "code",
   "execution_count": 26,
   "id": "3c2d6e99",
   "metadata": {},
   "outputs": [
    {
     "name": "stdout",
     "output_type": "stream",
     "text": [
      "Length= [[159.11651256]] , Score= [[40.92720746]]\n"
     ]
    }
   ],
   "source": [
    "xsN_1 = convertCtoN(x = x_s[0], UH = 75, UL = 55)\n",
    "xsN_2 = convertCtoN(x = x_s[1], UH = 85, UL = 65)\n",
    "print(\"Length=\", xsN_1, \", Score=\", xsN_2)"
   ]
  },
  {
   "cell_type": "code",
   "execution_count": 27,
   "id": "f25cefb9",
   "metadata": {},
   "outputs": [
    {
     "data": {
      "image/png": "[encoded data removed]",
      "text/plain": [
       "<Figure size 432x288 with 1 Axes>"
      ]
     },
     "metadata": {
      "needs_background": "light"
     },
     "output_type": "display_data"
    }
   ],
   "source": [
    "x1, x2 = np.meshgrid(np.linspace(convertNtoC(U = 30, UH = 75, UL = 55), \n",
    "                                 convertNtoC(U = 120, UH = 85, UL = 65), 100), \n",
    "                     np.linspace(convertNtoC(U = 0, UH = 75, UL = 55), \n",
    "                                 convertNtoC(U = 100, UH = 85, UL = 65), 100))\n",
    "eta = beta0 + beta1*x1 + beta2*x2 + beta12*x1*x2 + beta11*x1**2 + beta22*x2**2\n",
    "h = plt.contour(x1, x2, eta)\n",
    "plt.clabel(h, inline=True, fontsize=10)\n",
    "plt.xlabel('x1')\n",
    "plt.ylabel('x2')\n",
    "plt.title('Session time')\n",
    "plt.show()"
   ]
  },
  {
   "cell_type": "code",
   "execution_count": 28,
   "id": "486baad7",
   "metadata": {},
   "outputs": [
    {
     "data": {
      "image/png": "[encoded data removed]",
      "text/plain": [
       "<Figure size 432x288 with 1 Axes>"
      ]
     },
     "metadata": {
      "needs_background": "light"
     },
     "output_type": "display_data"
    }
   ],
   "source": [
    "h = plt.contour(convertCtoN(x1, UH=75, UL=55),\n",
    "                convertCtoN(x2, UH=85, UL=65), eta)\n",
    "plt.clabel(h, inline=True, fontsize=10)\n",
    "plt.xlabel('length')\n",
    "plt.ylabel('score')\n",
    "plt.title('time')\n",
    "plt.show()"
   ]
  },
  {
   "cell_type": "markdown",
   "id": "4c3bd758",
   "metadata": {},
   "source": [
    "# TT (3)"
   ]
  },
  {
   "cell_type": "code",
   "execution_count": 29,
   "id": "9decb9bd",
   "metadata": {},
   "outputs": [],
   "source": [
    "df_ccd2 = pd.read_csv('ccd_2.csv')\n",
    "df_ccd2.columns = ['length','score','size','type','time']\n",
    "extended = df_ccd2.loc[df_ccd2.apply(lambda x: x['length']==65and x['score'] == 75 , axis=1)].copy()"
   ]
  },
  {
   "cell_type": "code",
   "execution_count": 30,
   "id": "98f93db6",
   "metadata": {},
   "outputs": [],
   "source": [
    "df_ccd3 = pd.read_csv('ccd_3.csv')\n",
    "df_ccd3.columns = ['length','score','size','type','time']\n",
    "merged_df = pd.concat([df_ccd3, extended], axis=0, ignore_index=True)\n",
    "x1 = convertNtoC(merged_df['length'], 85, 65)\n",
    "x2 = convertNtoC(merged_df['score'], 75, 65)\n",
    "merged_df['x1'] = x1\n",
    "merged_df['x2'] = x2"
   ]
  },
  {
   "cell_type": "code",
   "execution_count": 31,
   "id": "7488471d",
   "metadata": {},
   "outputs": [
    {
     "data": {
      "text/html": [
       "<table class=\"simpletable\">\n",
       "<caption>OLS Regression Results</caption>\n",
       "<tr>\n",
       "  <th>Dep. Variable:</th>          <td>time</td>       <th>  R-squared:         </th> <td>   0.357</td>\n",
       "</tr>\n",
       "<tr>\n",
       "  <th>Model:</th>                   <td>OLS</td>       <th>  Adj. R-squared:    </th> <td>   0.354</td>\n",
       "</tr>\n",
       "<tr>\n",
       "  <th>Method:</th>             <td>Least Squares</td>  <th>  F-statistic:       </th> <td>   99.33</td>\n",
       "</tr>\n",
       "<tr>\n",
       "  <th>Date:</th>             <td>Fri, 20 Jan 2023</td> <th>  Prob (F-statistic):</th> <td>2.59e-83</td>\n",
       "</tr>\n",
       "<tr>\n",
       "  <th>Time:</th>                 <td>18:06:16</td>     <th>  Log-Likelihood:    </th> <td> -1255.2</td>\n",
       "</tr>\n",
       "<tr>\n",
       "  <th>No. Observations:</th>      <td>   900</td>      <th>  AIC:               </th> <td>   2522.</td>\n",
       "</tr>\n",
       "<tr>\n",
       "  <th>Df Residuals:</th>          <td>   894</td>      <th>  BIC:               </th> <td>   2551.</td>\n",
       "</tr>\n",
       "<tr>\n",
       "  <th>Df Model:</th>              <td>     5</td>      <th>                     </th>     <td> </td>   \n",
       "</tr>\n",
       "<tr>\n",
       "  <th>Covariance Type:</th>      <td>nonrobust</td>    <th>                     </th>     <td> </td>   \n",
       "</tr>\n",
       "</table>\n",
       "<table class=\"simpletable\">\n",
       "<tr>\n",
       "       <td></td>         <th>coef</th>     <th>std err</th>      <th>t</th>      <th>P>|t|</th>  <th>[0.025</th>    <th>0.975]</th>  \n",
       "</tr>\n",
       "<tr>\n",
       "  <th>Intercept</th>  <td>   10.3035</td> <td>    0.098</td> <td>  105.445</td> <td> 0.000</td> <td>   10.112</td> <td>   10.495</td>\n",
       "</tr>\n",
       "<tr>\n",
       "  <th>x1</th>         <td>    0.0593</td> <td>    0.034</td> <td>    1.764</td> <td> 0.078</td> <td>   -0.007</td> <td>    0.125</td>\n",
       "</tr>\n",
       "<tr>\n",
       "  <th>x2</th>         <td>   -0.4320</td> <td>    0.035</td> <td>  -12.415</td> <td> 0.000</td> <td>   -0.500</td> <td>   -0.364</td>\n",
       "</tr>\n",
       "<tr>\n",
       "  <th>x1:x2</th>      <td>    0.2501</td> <td>    0.049</td> <td>    5.108</td> <td> 0.000</td> <td>    0.154</td> <td>    0.346</td>\n",
       "</tr>\n",
       "<tr>\n",
       "  <th>I(x1 ** 2)</th> <td>    0.8561</td> <td>    0.052</td> <td>   16.421</td> <td> 0.000</td> <td>    0.754</td> <td>    0.958</td>\n",
       "</tr>\n",
       "<tr>\n",
       "  <th>I(x2 ** 2)</th> <td>    0.3340</td> <td>    0.059</td> <td>    5.633</td> <td> 0.000</td> <td>    0.218</td> <td>    0.450</td>\n",
       "</tr>\n",
       "</table>\n",
       "<table class=\"simpletable\">\n",
       "<tr>\n",
       "  <th>Omnibus:</th>       <td> 5.998</td> <th>  Durbin-Watson:     </th> <td>   1.889</td>\n",
       "</tr>\n",
       "<tr>\n",
       "  <th>Prob(Omnibus):</th> <td> 0.050</td> <th>  Jarque-Bera (JB):  </th> <td>   6.627</td>\n",
       "</tr>\n",
       "<tr>\n",
       "  <th>Skew:</th>          <td>-0.119</td> <th>  Prob(JB):          </th> <td>  0.0364</td>\n",
       "</tr>\n",
       "<tr>\n",
       "  <th>Kurtosis:</th>      <td> 3.346</td> <th>  Cond. No.          </th> <td>    6.15</td>\n",
       "</tr>\n",
       "</table><br/><br/>Notes:<br/>[1] Standard Errors assume that the covariance matrix of the errors is correctly specified."
      ],
      "text/plain": [
       "<class 'statsmodels.iolib.summary.Summary'>\n",
       "\"\"\"\n",
       "                            OLS Regression Results                            \n",
       "==============================================================================\n",
       "Dep. Variable:                   time   R-squared:                       0.357\n",
       "Model:                            OLS   Adj. R-squared:                  0.354\n",
       "Method:                 Least Squares   F-statistic:                     99.33\n",
       "Date:                Fri, 20 Jan 2023   Prob (F-statistic):           2.59e-83\n",
       "Time:                        18:06:16   Log-Likelihood:                -1255.2\n",
       "No. Observations:                 900   AIC:                             2522.\n",
       "Df Residuals:                     894   BIC:                             2551.\n",
       "Df Model:                           5                                         \n",
       "Covariance Type:            nonrobust                                         \n",
       "==============================================================================\n",
       "                 coef    std err          t      P>|t|      [0.025      0.975]\n",
       "------------------------------------------------------------------------------\n",
       "Intercept     10.3035      0.098    105.445      0.000      10.112      10.495\n",
       "x1             0.0593      0.034      1.764      0.078      -0.007       0.125\n",
       "x2            -0.4320      0.035    -12.415      0.000      -0.500      -0.364\n",
       "x1:x2          0.2501      0.049      5.108      0.000       0.154       0.346\n",
       "I(x1 ** 2)     0.8561      0.052     16.421      0.000       0.754       0.958\n",
       "I(x2 ** 2)     0.3340      0.059      5.633      0.000       0.218       0.450\n",
       "==============================================================================\n",
       "Omnibus:                        5.998   Durbin-Watson:                   1.889\n",
       "Prob(Omnibus):                  0.050   Jarque-Bera (JB):                6.627\n",
       "Skew:                          -0.119   Prob(JB):                       0.0364\n",
       "Kurtosis:                       3.346   Cond. No.                         6.15\n",
       "==============================================================================\n",
       "\n",
       "Notes:\n",
       "[1] Standard Errors assume that the covariance matrix of the errors is correctly specified.\n",
       "\"\"\""
      ]
     },
     "execution_count": 31,
     "metadata": {},
     "output_type": "execute_result"
    }
   ],
   "source": [
    "model = smf.ols('time ~ x1 + x2 + x1:x2 + I(x1**2) + I(x2**2)', data = merged_df).fit()\n",
    "model.summary()"
   ]
  },
  {
   "cell_type": "code",
   "execution_count": 32,
   "id": "c478d375",
   "metadata": {},
   "outputs": [
    {
     "name": "stdout",
     "output_type": "stream",
     "text": [
      "Session time is maximized when x1= [[-0.13653313]] and x2= [[0.69780845]]\n"
     ]
    }
   ],
   "source": [
    "beta0 = model.params[0]\n",
    "beta1 = model.params[1]\n",
    "beta2 = model.params[2]\n",
    "beta12 = model.params[3]\n",
    "beta11 = model.params[4]\n",
    "beta22 = model.params[5]\n",
    "b = np.matrix([beta1, beta2]).transpose()\n",
    "B = np.matrix([[beta11, 0.5*beta12], [0.5*beta12, beta22]])\n",
    "x_s = -0.5* np.matmul(np.linalg.inv(B), b)\n",
    "print(\"Session time is maximized when x1=\", x_s[0], \"and x2=\", x_s[1])"
   ]
  },
  {
   "cell_type": "code",
   "execution_count": 33,
   "id": "7de28143",
   "metadata": {},
   "outputs": [
    {
     "name": "stdout",
     "output_type": "stream",
     "text": [
      "Length= [[73.63466871]] , Score= [[73.48904225]]\n"
     ]
    }
   ],
   "source": [
    "xsN_1 = convertCtoN(x = x_s[0], UH = 85, UL = 65)\n",
    "xsN_2 = convertCtoN(x = x_s[1], UH = 75, UL = 65)\n",
    "print(\"Length=\", xsN_1, \", Score=\", xsN_2)"
   ]
  },
  {
   "cell_type": "code",
   "execution_count": 34,
   "id": "353646ff",
   "metadata": {},
   "outputs": [
    {
     "data": {
      "image/png": "[encoded data removed]",
      "text/plain": [
       "<Figure size 432x288 with 1 Axes>"
      ]
     },
     "metadata": {
      "needs_background": "light"
     },
     "output_type": "display_data"
    }
   ],
   "source": [
    "x1, x2 = np.meshgrid(np.linspace(convertNtoC(U = 30, UH = 85, UL = 65), \n",
    "                                 convertNtoC(U = 120, UH = 85, UL = 65), 100), \n",
    "                     np.linspace(convertNtoC(U = 0, UH = 75, UL = 65), \n",
    "                                 convertNtoC(U = 100, UH = 75, UL = 65), 100))\n",
    "eta = beta0 + beta1*x1 + beta2*x2 + beta12*x1*x2 + beta11*x1**2 + beta22*x2**2\n",
    "h = plt.contour(x1, x2, eta)\n",
    "plt.clabel(h, inline=True, fontsize=10)\n",
    "plt.xlabel('x1')\n",
    "plt.ylabel('x2')\n",
    "plt.title('Session time')\n",
    "plt.show()"
   ]
  },
  {
   "cell_type": "code",
   "execution_count": 35,
   "id": "07e3cca2",
   "metadata": {},
   "outputs": [
    {
     "data": {
      "image/png": "[encoded data removed]",
      "text/plain": [
       "<Figure size 432x288 with 1 Axes>"
      ]
     },
     "metadata": {
      "needs_background": "light"
     },
     "output_type": "display_data"
    }
   ],
   "source": [
    "h = plt.contour(convertCtoN(x1, UH=85, UL=65),\n",
    "                convertCtoN(x2, UH=75, UL=65), eta)\n",
    "plt.clabel(h, inline=True, fontsize=10)\n",
    "plt.xlabel('length')\n",
    "plt.ylabel('score')\n",
    "plt.title('time')\n",
    "plt.show()"
   ]
  },
  {
   "cell_type": "code",
   "execution_count": 36,
   "id": "76e8c2d8",
   "metadata": {},
   "outputs": [
    {
     "name": "stdout",
     "output_type": "stream",
     "text": [
      "0    10.164583\n",
      "dtype: float64\n"
     ]
    }
   ],
   "source": [
    "yhat = model.predict(exog=dict(x1=convertNtoC(U = 75, UH = 85, UL = 65), \n",
    "                               x2=convertNtoC(U = 73, UH = 75, UL = 65)))\n",
    "print(yhat)"
   ]
  },
  {
   "cell_type": "code",
   "execution_count": 37,
   "id": "18a92c35",
   "metadata": {},
   "outputs": [
    {
     "data": {
      "text/html": [
       "<div>\n",
       "<style scoped>\n",
       "    .dataframe tbody tr th:only-of-type {\n",
       "        vertical-align: middle;\n",
       "    }\n",
       "\n",
       "    .dataframe tbody tr th {\n",
       "        vertical-align: top;\n",
       "    }\n",
       "\n",
       "    .dataframe thead th {\n",
       "        text-align: right;\n",
       "    }\n",
       "</style>\n",
       "<table border=\"1\" class=\"dataframe\">\n",
       "  <thead>\n",
       "    <tr style=\"text-align: right;\">\n",
       "      <th></th>\n",
       "      <th>mean</th>\n",
       "      <th>mean_se</th>\n",
       "      <th>mean_ci_lower</th>\n",
       "      <th>mean_ci_upper</th>\n",
       "      <th>obs_ci_lower</th>\n",
       "      <th>obs_ci_upper</th>\n",
       "    </tr>\n",
       "  </thead>\n",
       "  <tbody>\n",
       "    <tr>\n",
       "      <th>0</th>\n",
       "      <td>10.148768</td>\n",
       "      <td>0.07766</td>\n",
       "      <td>9.99635</td>\n",
       "      <td>10.301186</td>\n",
       "      <td>8.220855</td>\n",
       "      <td>12.076681</td>\n",
       "    </tr>\n",
       "  </tbody>\n",
       "</table>\n",
       "</div>"
      ],
      "text/plain": [
       "        mean  mean_se  mean_ci_lower  mean_ci_upper  obs_ci_lower  \\\n",
       "0  10.148768  0.07766        9.99635      10.301186      8.220855   \n",
       "\n",
       "   obs_ci_upper  \n",
       "0     12.076681  "
      ]
     },
     "execution_count": 37,
     "metadata": {},
     "output_type": "execute_result"
    }
   ],
   "source": [
    "model.get_prediction(exog=dict(x1=convertNtoC(U = xsN_1, UH = 85, UL = 65), \n",
    "                               x2=convertNtoC(U = xsN_2, UH = 75, UL = 65))).summary_frame(alpha=0.05)"
   ]
  },
  {
   "cell_type": "code",
   "execution_count": null,
   "id": "d0681bf9",
   "metadata": {},
   "outputs": [],
   "source": []
  }
 ],
 "metadata": {
  "kernelspec": {
   "display_name": "Python 3 (ipykernel)",
   "language": "python",
   "name": "python3"
  },
  "language_info": {
   "codemirror_mode": {
    "name": "ipython",
    "version": 3
   },
   "file_extension": ".py",
   "mimetype": "text/x-python",
   "name": "python",
   "nbconvert_exporter": "python",
   "pygments_lexer": "ipython3",
   "version": "3.9.12"
  }
 },
 "nbformat": 4,
 "nbformat_minor": 5
}
